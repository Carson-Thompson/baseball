{
 "cells": [
  {
   "cell_type": "code",
   "execution_count": 1,
   "id": "70017f50-bbf5-4aff-ab7c-4ab8ac1d14fe",
   "metadata": {},
   "outputs": [],
   "source": [
    "import polars as pl"
   ]
  },
  {
   "cell_type": "code",
   "execution_count": 14,
   "id": "d8940c38-11c0-4cad-8512-665343e86c31",
   "metadata": {},
   "outputs": [
    {
     "data": {
      "text/html": [
       "<div><style>\n",
       ".dataframe > thead > tr,\n",
       ".dataframe > tbody > tr {\n",
       "  text-align: right;\n",
       "  white-space: pre-wrap;\n",
       "}\n",
       "</style>\n",
       "<small>shape: (52_344, 30)</small><table border=\"1\" class=\"dataframe\"><thead><tr><th>playerID</th><th>yearID</th><th>stint</th><th>teamID</th><th>lgID</th><th>W</th><th>L</th><th>G</th><th>GS</th><th>CG</th><th>SHO</th><th>SV</th><th>IPouts</th><th>H</th><th>ER</th><th>HR</th><th>BB</th><th>SO</th><th>BAOpp</th><th>ERA</th><th>IBB</th><th>WP</th><th>HBP</th><th>BK</th><th>BFP</th><th>GF</th><th>R</th><th>SH</th><th>SF</th><th>GIDP</th></tr><tr><td>str</td><td>i64</td><td>i64</td><td>str</td><td>str</td><td>i64</td><td>i64</td><td>i64</td><td>i64</td><td>i64</td><td>i64</td><td>i64</td><td>i64</td><td>i64</td><td>i64</td><td>i64</td><td>i64</td><td>i64</td><td>f64</td><td>f64</td><td>i64</td><td>i64</td><td>i64</td><td>i64</td><td>i64</td><td>i64</td><td>i64</td><td>i64</td><td>i64</td><td>i64</td></tr></thead><tbody><tr><td>&quot;aardsda01&quot;</td><td>2004</td><td>1</td><td>&quot;SFN&quot;</td><td>&quot;NL&quot;</td><td>1</td><td>0</td><td>11</td><td>0</td><td>0</td><td>0</td><td>0</td><td>32</td><td>20</td><td>8</td><td>1</td><td>10</td><td>5</td><td>0.417</td><td>6.75</td><td>0</td><td>0</td><td>2</td><td>0</td><td>61</td><td>5</td><td>8</td><td>0</td><td>1</td><td>1</td></tr><tr><td>&quot;aardsda01&quot;</td><td>2006</td><td>1</td><td>&quot;CHN&quot;</td><td>&quot;NL&quot;</td><td>3</td><td>0</td><td>45</td><td>0</td><td>0</td><td>0</td><td>0</td><td>159</td><td>41</td><td>24</td><td>9</td><td>28</td><td>49</td><td>0.214</td><td>4.08</td><td>0</td><td>1</td><td>1</td><td>0</td><td>225</td><td>9</td><td>25</td><td>1</td><td>3</td><td>2</td></tr><tr><td>&quot;aardsda01&quot;</td><td>2007</td><td>1</td><td>&quot;CHA&quot;</td><td>&quot;AL&quot;</td><td>2</td><td>1</td><td>25</td><td>0</td><td>0</td><td>0</td><td>0</td><td>97</td><td>39</td><td>23</td><td>4</td><td>17</td><td>36</td><td>0.3</td><td>6.4</td><td>3</td><td>2</td><td>1</td><td>0</td><td>151</td><td>7</td><td>24</td><td>2</td><td>1</td><td>1</td></tr><tr><td>&quot;aardsda01&quot;</td><td>2008</td><td>1</td><td>&quot;BOS&quot;</td><td>&quot;AL&quot;</td><td>4</td><td>2</td><td>47</td><td>0</td><td>0</td><td>0</td><td>0</td><td>146</td><td>49</td><td>30</td><td>4</td><td>35</td><td>49</td><td>0.268</td><td>5.55</td><td>2</td><td>3</td><td>5</td><td>0</td><td>228</td><td>7</td><td>32</td><td>3</td><td>2</td><td>4</td></tr><tr><td>&quot;aardsda01&quot;</td><td>2009</td><td>1</td><td>&quot;SEA&quot;</td><td>&quot;AL&quot;</td><td>3</td><td>6</td><td>73</td><td>0</td><td>0</td><td>0</td><td>38</td><td>214</td><td>49</td><td>20</td><td>4</td><td>34</td><td>80</td><td>0.19</td><td>2.52</td><td>3</td><td>2</td><td>0</td><td>0</td><td>296</td><td>53</td><td>23</td><td>2</td><td>1</td><td>2</td></tr><tr><td>&hellip;</td><td>&hellip;</td><td>&hellip;</td><td>&hellip;</td><td>&hellip;</td><td>&hellip;</td><td>&hellip;</td><td>&hellip;</td><td>&hellip;</td><td>&hellip;</td><td>&hellip;</td><td>&hellip;</td><td>&hellip;</td><td>&hellip;</td><td>&hellip;</td><td>&hellip;</td><td>&hellip;</td><td>&hellip;</td><td>&hellip;</td><td>&hellip;</td><td>&hellip;</td><td>&hellip;</td><td>&hellip;</td><td>&hellip;</td><td>&hellip;</td><td>&hellip;</td><td>&hellip;</td><td>&hellip;</td><td>&hellip;</td><td>&hellip;</td></tr><tr><td>&quot;zuverge01&quot;</td><td>1958</td><td>1</td><td>&quot;BAL&quot;</td><td>&quot;AL&quot;</td><td>2</td><td>2</td><td>45</td><td>0</td><td>0</td><td>0</td><td>7</td><td>207</td><td>74</td><td>26</td><td>4</td><td>17</td><td>22</td><td>0.28</td><td>3.39</td><td>3</td><td>2</td><td>6</td><td>0</td><td>294</td><td>23</td><td>29</td><td>null</td><td>null</td><td>null</td></tr><tr><td>&quot;zuverge01&quot;</td><td>1959</td><td>1</td><td>&quot;BAL&quot;</td><td>&quot;AL&quot;</td><td>0</td><td>1</td><td>6</td><td>0</td><td>0</td><td>0</td><td>0</td><td>39</td><td>15</td><td>6</td><td>1</td><td>6</td><td>1</td><td>0.3</td><td>4.15</td><td>0</td><td>1</td><td>0</td><td>0</td><td>55</td><td>1</td><td>7</td><td>null</td><td>null</td><td>null</td></tr><tr><td>&quot;zychto01&quot;</td><td>2015</td><td>1</td><td>&quot;SEA&quot;</td><td>&quot;AL&quot;</td><td>0</td><td>0</td><td>13</td><td>1</td><td>0</td><td>0</td><td>0</td><td>55</td><td>17</td><td>5</td><td>1</td><td>3</td><td>24</td><td>0.239</td><td>2.45</td><td>0</td><td>1</td><td>2</td><td>0</td><td>76</td><td>4</td><td>6</td><td>0</td><td>0</td><td>0</td></tr><tr><td>&quot;zychto01&quot;</td><td>2016</td><td>1</td><td>&quot;SEA&quot;</td><td>&quot;AL&quot;</td><td>1</td><td>0</td><td>12</td><td>0</td><td>0</td><td>0</td><td>0</td><td>41</td><td>10</td><td>5</td><td>0</td><td>10</td><td>21</td><td>0.208</td><td>3.29</td><td>2</td><td>0</td><td>1</td><td>0</td><td>60</td><td>3</td><td>6</td><td>0</td><td>1</td><td>1</td></tr><tr><td>&quot;zychto01&quot;</td><td>2017</td><td>1</td><td>&quot;SEA&quot;</td><td>&quot;AL&quot;</td><td>6</td><td>3</td><td>45</td><td>0</td><td>0</td><td>0</td><td>1</td><td>122</td><td>30</td><td>12</td><td>2</td><td>21</td><td>35</td><td>0.208</td><td>2.66</td><td>3</td><td>1</td><td>5</td><td>1</td><td>173</td><td>7</td><td>12</td><td>1</td><td>2</td><td>5</td></tr></tbody></table></div>"
      ],
      "text/plain": [
       "shape: (52_344, 30)\n",
       "┌───────────┬────────┬───────┬────────┬───┬─────┬──────┬──────┬──────┐\n",
       "│ playerID  ┆ yearID ┆ stint ┆ teamID ┆ … ┆ R   ┆ SH   ┆ SF   ┆ GIDP │\n",
       "│ ---       ┆ ---    ┆ ---   ┆ ---    ┆   ┆ --- ┆ ---  ┆ ---  ┆ ---  │\n",
       "│ str       ┆ i64    ┆ i64   ┆ str    ┆   ┆ i64 ┆ i64  ┆ i64  ┆ i64  │\n",
       "╞═══════════╪════════╪═══════╪════════╪═══╪═════╪══════╪══════╪══════╡\n",
       "│ aardsda01 ┆ 2004   ┆ 1     ┆ SFN    ┆ … ┆ 8   ┆ 0    ┆ 1    ┆ 1    │\n",
       "│ aardsda01 ┆ 2006   ┆ 1     ┆ CHN    ┆ … ┆ 25  ┆ 1    ┆ 3    ┆ 2    │\n",
       "│ aardsda01 ┆ 2007   ┆ 1     ┆ CHA    ┆ … ┆ 24  ┆ 2    ┆ 1    ┆ 1    │\n",
       "│ aardsda01 ┆ 2008   ┆ 1     ┆ BOS    ┆ … ┆ 32  ┆ 3    ┆ 2    ┆ 4    │\n",
       "│ aardsda01 ┆ 2009   ┆ 1     ┆ SEA    ┆ … ┆ 23  ┆ 2    ┆ 1    ┆ 2    │\n",
       "│ …         ┆ …      ┆ …     ┆ …      ┆ … ┆ …   ┆ …    ┆ …    ┆ …    │\n",
       "│ zuverge01 ┆ 1958   ┆ 1     ┆ BAL    ┆ … ┆ 29  ┆ null ┆ null ┆ null │\n",
       "│ zuverge01 ┆ 1959   ┆ 1     ┆ BAL    ┆ … ┆ 7   ┆ null ┆ null ┆ null │\n",
       "│ zychto01  ┆ 2015   ┆ 1     ┆ SEA    ┆ … ┆ 6   ┆ 0    ┆ 0    ┆ 0    │\n",
       "│ zychto01  ┆ 2016   ┆ 1     ┆ SEA    ┆ … ┆ 6   ┆ 0    ┆ 1    ┆ 1    │\n",
       "│ zychto01  ┆ 2017   ┆ 1     ┆ SEA    ┆ … ┆ 12  ┆ 1    ┆ 2    ┆ 5    │\n",
       "└───────────┴────────┴───────┴────────┴───┴─────┴──────┴──────┴──────┘"
      ]
     },
     "execution_count": 14,
     "metadata": {},
     "output_type": "execute_result"
    }
   ],
   "source": [
    "(pitching := pl.read_csv(\"./data/lahman_1871-2024_csv/Pitching.csv\")\n",
    ")"
   ]
  },
  {
   "cell_type": "code",
   "execution_count": 82,
   "id": "31167b35-0a38-405b-818a-507632f1df4f",
   "metadata": {},
   "outputs": [
    {
     "data": {
      "text/html": [
       "<div><style>\n",
       ".dataframe > thead > tr,\n",
       ".dataframe > tbody > tr {\n",
       "  text-align: right;\n",
       "  white-space: pre-wrap;\n",
       "}\n",
       "</style>\n",
       "<small>shape: (292, 6)</small><table border=\"1\" class=\"dataframe\"><thead><tr><th>lgID</th><th>yearID</th><th>total_runs_allowed</th><th>total_outs</th><th>ERA</th><th>DH_allowed</th></tr><tr><td>str</td><td>i64</td><td>i64</td><td>i64</td><td>f64</td><td>str</td></tr></thead><tbody><tr><td>&quot;AL&quot;</td><td>1985</td><td>10317</td><td>60552</td><td>4.600327</td><td>&quot;DH&quot;</td></tr><tr><td>&quot;NL&quot;</td><td>2012</td><td>11037</td><td>69211</td><td>4.30566</td><td>&quot;No DH&quot;</td></tr><tr><td>&quot;AL&quot;</td><td>1979</td><td>10527</td><td>60155</td><td>4.724944</td><td>&quot;DH&quot;</td></tr><tr><td>&quot;NL&quot;</td><td>1927</td><td>5657</td><td>33023</td><td>4.625231</td><td>&quot;No DH&quot;</td></tr><tr><td>&quot;AL&quot;</td><td>1999</td><td>11853</td><td>60230</td><td>5.313482</td><td>&quot;DH&quot;</td></tr><tr><td>&hellip;</td><td>&hellip;</td><td>&hellip;</td><td>&hellip;</td><td>&hellip;</td><td>&hellip;</td></tr><tr><td>&quot;NL&quot;</td><td>1997</td><td>10427</td><td>60767</td><td>4.632926</td><td>&quot;No DH&quot;</td></tr><tr><td>&quot;NL&quot;</td><td>1966</td><td>6624</td><td>43654</td><td>4.096944</td><td>&quot;No DH&quot;</td></tr><tr><td>&quot;NL&quot;</td><td>1984</td><td>7894</td><td>52274</td><td>4.077323</td><td>&quot;No DH&quot;</td></tr><tr><td>&quot;AL&quot;</td><td>1980</td><td>10201</td><td>60995</td><td>4.515567</td><td>&quot;DH&quot;</td></tr><tr><td>&quot;NL&quot;</td><td>1998</td><td>11943</td><td>69720</td><td>4.625086</td><td>&quot;No DH&quot;</td></tr></tbody></table></div>"
      ],
      "text/plain": [
       "shape: (292, 6)\n",
       "┌──────┬────────┬────────────────────┬────────────┬──────────┬────────────┐\n",
       "│ lgID ┆ yearID ┆ total_runs_allowed ┆ total_outs ┆ ERA      ┆ DH_allowed │\n",
       "│ ---  ┆ ---    ┆ ---                ┆ ---        ┆ ---      ┆ ---        │\n",
       "│ str  ┆ i64    ┆ i64                ┆ i64        ┆ f64      ┆ str        │\n",
       "╞══════╪════════╪════════════════════╪════════════╪══════════╪════════════╡\n",
       "│ AL   ┆ 1985   ┆ 10317              ┆ 60552      ┆ 4.600327 ┆ DH         │\n",
       "│ NL   ┆ 2012   ┆ 11037              ┆ 69211      ┆ 4.30566  ┆ No DH      │\n",
       "│ AL   ┆ 1979   ┆ 10527              ┆ 60155      ┆ 4.724944 ┆ DH         │\n",
       "│ NL   ┆ 1927   ┆ 5657               ┆ 33023      ┆ 4.625231 ┆ No DH      │\n",
       "│ AL   ┆ 1999   ┆ 11853              ┆ 60230      ┆ 5.313482 ┆ DH         │\n",
       "│ …    ┆ …      ┆ …                  ┆ …          ┆ …        ┆ …          │\n",
       "│ NL   ┆ 1997   ┆ 10427              ┆ 60767      ┆ 4.632926 ┆ No DH      │\n",
       "│ NL   ┆ 1966   ┆ 6624               ┆ 43654      ┆ 4.096944 ┆ No DH      │\n",
       "│ NL   ┆ 1984   ┆ 7894               ┆ 52274      ┆ 4.077323 ┆ No DH      │\n",
       "│ AL   ┆ 1980   ┆ 10201              ┆ 60995      ┆ 4.515567 ┆ DH         │\n",
       "│ NL   ┆ 1998   ┆ 11943              ┆ 69720      ┆ 4.625086 ┆ No DH      │\n",
       "└──────┴────────┴────────────────────┴────────────┴──────────┴────────────┘"
      ]
     },
     "execution_count": 82,
     "metadata": {},
     "output_type": "execute_result"
    }
   ],
   "source": [
    "(league_wide_ERA := pitching\n",
    " .group_by(\"lgID\", \"yearID\").agg(pl.col(\"R\").sum().alias(\"total_runs_allowed\"), pl.col(\"IPouts\").sum().alias(\"total_outs\"))\n",
    " .with_columns(ERA = pl.col(\"total_runs_allowed\")/pl.col(\"total_outs\")*27)\n",
    " .with_columns(DH_allowed = pl.when(pl.col(\"lgID\") == \"AL\", pl.col(\"yearID\") >= 1973).then(pl.lit(\"DH\")).otherwise(\n",
    "                            pl.when(pl.col(\"lgID\") == \"NL\", pl.col(\"yearID\") >= 2022).then(pl.lit(\"DH\")).otherwise(\n",
    "                            pl.when(pl.col(\"yearID\") == 2020).then(pl.lit(\"DH\")).otherwise(pl.lit(\"No DH\")))))\n",
    ")"
   ]
  },
  {
   "cell_type": "code",
   "execution_count": 83,
   "id": "ba69977d-bb2d-47b0-8151-c76e9cba4b7b",
   "metadata": {},
   "outputs": [],
   "source": [
    "league_wide_ERA.write_csv(\"./data/league_wide_ERA.csv\")"
   ]
  },
  {
   "cell_type": "code",
   "execution_count": 84,
   "id": "a7569c7a-bd97-4430-83b0-f71ff27df492",
   "metadata": {},
   "outputs": [
    {
     "data": {
      "text/html": [
       "<div><style>\n",
       ".dataframe > thead > tr,\n",
       ".dataframe > tbody > tr {\n",
       "  text-align: right;\n",
       "  white-space: pre-wrap;\n",
       "}\n",
       "</style>\n",
       "<small>shape: (115_450, 24)</small><table border=\"1\" class=\"dataframe\"><thead><tr><th>playerID</th><th>yearID</th><th>stint</th><th>teamID</th><th>lgID</th><th>G</th><th>G_batting</th><th>AB</th><th>R</th><th>H</th><th>2B</th><th>3B</th><th>HR</th><th>RBI</th><th>SB</th><th>CS</th><th>BB</th><th>SO</th><th>IBB</th><th>HBP</th><th>SH</th><th>SF</th><th>GIDP</th><th>G_old</th></tr><tr><td>str</td><td>i64</td><td>i64</td><td>str</td><td>str</td><td>i64</td><td>i64</td><td>i64</td><td>i64</td><td>i64</td><td>i64</td><td>i64</td><td>i64</td><td>i64</td><td>i64</td><td>i64</td><td>i64</td><td>i64</td><td>i64</td><td>i64</td><td>i64</td><td>i64</td><td>i64</td><td>i64</td></tr></thead><tbody><tr><td>&quot;aardsda01&quot;</td><td>2004</td><td>1</td><td>&quot;SFN&quot;</td><td>&quot;NL&quot;</td><td>11</td><td>null</td><td>0</td><td>0</td><td>0</td><td>0</td><td>0</td><td>0</td><td>0</td><td>0</td><td>0</td><td>0</td><td>0</td><td>0</td><td>0</td><td>0</td><td>0</td><td>0</td><td>null</td></tr><tr><td>&quot;aardsda01&quot;</td><td>2006</td><td>1</td><td>&quot;CHN&quot;</td><td>&quot;NL&quot;</td><td>45</td><td>null</td><td>2</td><td>0</td><td>0</td><td>0</td><td>0</td><td>0</td><td>0</td><td>0</td><td>0</td><td>0</td><td>0</td><td>0</td><td>0</td><td>1</td><td>0</td><td>0</td><td>null</td></tr><tr><td>&quot;aardsda01&quot;</td><td>2007</td><td>1</td><td>&quot;CHA&quot;</td><td>&quot;AL&quot;</td><td>25</td><td>null</td><td>0</td><td>0</td><td>0</td><td>0</td><td>0</td><td>0</td><td>0</td><td>0</td><td>0</td><td>0</td><td>0</td><td>0</td><td>0</td><td>0</td><td>0</td><td>0</td><td>null</td></tr><tr><td>&quot;aardsda01&quot;</td><td>2008</td><td>1</td><td>&quot;BOS&quot;</td><td>&quot;AL&quot;</td><td>47</td><td>null</td><td>1</td><td>0</td><td>0</td><td>0</td><td>0</td><td>0</td><td>0</td><td>0</td><td>0</td><td>0</td><td>1</td><td>0</td><td>0</td><td>0</td><td>0</td><td>0</td><td>null</td></tr><tr><td>&quot;aardsda01&quot;</td><td>2009</td><td>1</td><td>&quot;SEA&quot;</td><td>&quot;AL&quot;</td><td>73</td><td>null</td><td>0</td><td>0</td><td>0</td><td>0</td><td>0</td><td>0</td><td>0</td><td>0</td><td>0</td><td>0</td><td>0</td><td>0</td><td>0</td><td>0</td><td>0</td><td>0</td><td>null</td></tr><tr><td>&hellip;</td><td>&hellip;</td><td>&hellip;</td><td>&hellip;</td><td>&hellip;</td><td>&hellip;</td><td>&hellip;</td><td>&hellip;</td><td>&hellip;</td><td>&hellip;</td><td>&hellip;</td><td>&hellip;</td><td>&hellip;</td><td>&hellip;</td><td>&hellip;</td><td>&hellip;</td><td>&hellip;</td><td>&hellip;</td><td>&hellip;</td><td>&hellip;</td><td>&hellip;</td><td>&hellip;</td><td>&hellip;</td><td>&hellip;</td></tr><tr><td>&quot;zwilldu01&quot;</td><td>1915</td><td>1</td><td>&quot;CHF&quot;</td><td>&quot;FL&quot;</td><td>150</td><td>null</td><td>548</td><td>65</td><td>157</td><td>32</td><td>7</td><td>13</td><td>94</td><td>24</td><td>null</td><td>67</td><td>65</td><td>null</td><td>2</td><td>18</td><td>null</td><td>null</td><td>null</td></tr><tr><td>&quot;zwilldu01&quot;</td><td>1916</td><td>1</td><td>&quot;CHN&quot;</td><td>&quot;NL&quot;</td><td>35</td><td>null</td><td>53</td><td>4</td><td>6</td><td>1</td><td>0</td><td>1</td><td>8</td><td>0</td><td>null</td><td>4</td><td>6</td><td>null</td><td>0</td><td>2</td><td>null</td><td>null</td><td>null</td></tr><tr><td>&quot;zychto01&quot;</td><td>2015</td><td>1</td><td>&quot;SEA&quot;</td><td>&quot;AL&quot;</td><td>13</td><td>null</td><td>0</td><td>0</td><td>0</td><td>0</td><td>0</td><td>0</td><td>0</td><td>0</td><td>0</td><td>0</td><td>0</td><td>0</td><td>0</td><td>0</td><td>0</td><td>0</td><td>null</td></tr><tr><td>&quot;zychto01&quot;</td><td>2016</td><td>1</td><td>&quot;SEA&quot;</td><td>&quot;AL&quot;</td><td>12</td><td>null</td><td>0</td><td>0</td><td>0</td><td>0</td><td>0</td><td>0</td><td>0</td><td>0</td><td>0</td><td>0</td><td>0</td><td>0</td><td>0</td><td>0</td><td>0</td><td>0</td><td>null</td></tr><tr><td>&quot;zychto01&quot;</td><td>2017</td><td>1</td><td>&quot;SEA&quot;</td><td>&quot;AL&quot;</td><td>45</td><td>null</td><td>0</td><td>0</td><td>0</td><td>0</td><td>0</td><td>0</td><td>0</td><td>0</td><td>0</td><td>0</td><td>0</td><td>0</td><td>0</td><td>0</td><td>0</td><td>0</td><td>null</td></tr></tbody></table></div>"
      ],
      "text/plain": [
       "shape: (115_450, 24)\n",
       "┌───────────┬────────┬───────┬────────┬───┬─────┬──────┬──────┬───────┐\n",
       "│ playerID  ┆ yearID ┆ stint ┆ teamID ┆ … ┆ SH  ┆ SF   ┆ GIDP ┆ G_old │\n",
       "│ ---       ┆ ---    ┆ ---   ┆ ---    ┆   ┆ --- ┆ ---  ┆ ---  ┆ ---   │\n",
       "│ str       ┆ i64    ┆ i64   ┆ str    ┆   ┆ i64 ┆ i64  ┆ i64  ┆ i64   │\n",
       "╞═══════════╪════════╪═══════╪════════╪═══╪═════╪══════╪══════╪═══════╡\n",
       "│ aardsda01 ┆ 2004   ┆ 1     ┆ SFN    ┆ … ┆ 0   ┆ 0    ┆ 0    ┆ null  │\n",
       "│ aardsda01 ┆ 2006   ┆ 1     ┆ CHN    ┆ … ┆ 1   ┆ 0    ┆ 0    ┆ null  │\n",
       "│ aardsda01 ┆ 2007   ┆ 1     ┆ CHA    ┆ … ┆ 0   ┆ 0    ┆ 0    ┆ null  │\n",
       "│ aardsda01 ┆ 2008   ┆ 1     ┆ BOS    ┆ … ┆ 0   ┆ 0    ┆ 0    ┆ null  │\n",
       "│ aardsda01 ┆ 2009   ┆ 1     ┆ SEA    ┆ … ┆ 0   ┆ 0    ┆ 0    ┆ null  │\n",
       "│ …         ┆ …      ┆ …     ┆ …      ┆ … ┆ …   ┆ …    ┆ …    ┆ …     │\n",
       "│ zwilldu01 ┆ 1915   ┆ 1     ┆ CHF    ┆ … ┆ 18  ┆ null ┆ null ┆ null  │\n",
       "│ zwilldu01 ┆ 1916   ┆ 1     ┆ CHN    ┆ … ┆ 2   ┆ null ┆ null ┆ null  │\n",
       "│ zychto01  ┆ 2015   ┆ 1     ┆ SEA    ┆ … ┆ 0   ┆ 0    ┆ 0    ┆ null  │\n",
       "│ zychto01  ┆ 2016   ┆ 1     ┆ SEA    ┆ … ┆ 0   ┆ 0    ┆ 0    ┆ null  │\n",
       "│ zychto01  ┆ 2017   ┆ 1     ┆ SEA    ┆ … ┆ 0   ┆ 0    ┆ 0    ┆ null  │\n",
       "└───────────┴────────┴───────┴────────┴───┴─────┴──────┴──────┴───────┘"
      ]
     },
     "execution_count": 84,
     "metadata": {},
     "output_type": "execute_result"
    }
   ],
   "source": [
    "(batting := pl.read_csv(\"./data/lahman_1871-2024_csv/Batting.csv\")\n",
    ")"
   ]
  },
  {
   "cell_type": "code",
   "execution_count": 85,
   "id": "7bf8daeb-34dc-4ced-83bb-0fe5637eed95",
   "metadata": {},
   "outputs": [
    {
     "data": {
      "text/html": [
       "<div><style>\n",
       ".dataframe > thead > tr,\n",
       ".dataframe > tbody > tr {\n",
       "  text-align: right;\n",
       "  white-space: pre-wrap;\n",
       "}\n",
       "</style>\n",
       "<small>shape: (292, 9)</small><table border=\"1\" class=\"dataframe\"><thead><tr><th>lgID</th><th>yearID</th><th>Total_1B</th><th>Total_2B</th><th>Total_3B</th><th>Total_HR</th><th>Total_AB</th><th>Slugging_Pct</th><th>DH_allowed</th></tr><tr><td>str</td><td>i64</td><td>i64</td><td>i64</td><td>i64</td><td>i64</td><td>i64</td><td>f64</td><td>str</td></tr></thead><tbody><tr><td>&quot;NL&quot;</td><td>2013</td><td>20768</td><td>4039</td><td>424</td><td>2157</td><td>82690</td><td>0.468569</td><td>&quot;No DH&quot;</td></tr><tr><td>&quot;NA&quot;</td><td>1874</td><td>5224</td><td>634</td><td>194</td><td>40</td><td>19104</td><td>0.378664</td><td>&quot;No DH&quot;</td></tr><tr><td>&quot;NL&quot;</td><td>1949</td><td>11207</td><td>1865</td><td>370</td><td>935</td><td>42711</td><td>0.463276</td><td>&quot;No DH&quot;</td></tr><tr><td>&quot;AL&quot;</td><td>1928</td><td>11835</td><td>2202</td><td>620</td><td>483</td><td>42144</td><td>0.475299</td><td>&quot;No DH&quot;</td></tr><tr><td>&quot;AL&quot;</td><td>1955</td><td>10802</td><td>1574</td><td>338</td><td>961</td><td>41817</td><td>0.449769</td><td>&quot;No DH&quot;</td></tr><tr><td>&hellip;</td><td>&hellip;</td><td>&hellip;</td><td>&hellip;</td><td>&hellip;</td><td>&hellip;</td><td>&hellip;</td><td>&hellip;</td><td>&hellip;</td></tr><tr><td>&quot;AL&quot;</td><td>1937</td><td>12178</td><td>2294</td><td>539</td><td>806</td><td>43303</td><td>0.498972</td><td>&quot;No DH&quot;</td></tr><tr><td>&quot;AA&quot;</td><td>1888</td><td>9057</td><td>1251</td><td>545</td><td>188</td><td>37983</td><td>0.367164</td><td>&quot;No DH&quot;</td></tr><tr><td>&quot;AL&quot;</td><td>1905</td><td>9783</td><td>1531</td><td>479</td><td>156</td><td>40623</td><td>0.366935</td><td>&quot;No DH&quot;</td></tr><tr><td>&quot;AA&quot;</td><td>1890</td><td>9345</td><td>1258</td><td>560</td><td>187</td><td>37003</td><td>0.386158</td><td>&quot;No DH&quot;</td></tr><tr><td>&quot;NA&quot;</td><td>1871</td><td>3101</td><td>434</td><td>239</td><td>47</td><td>10822</td><td>0.450379</td><td>&quot;No DH&quot;</td></tr></tbody></table></div>"
      ],
      "text/plain": [
       "shape: (292, 9)\n",
       "┌──────┬────────┬──────────┬──────────┬───┬──────────┬──────────┬──────────────┬────────────┐\n",
       "│ lgID ┆ yearID ┆ Total_1B ┆ Total_2B ┆ … ┆ Total_HR ┆ Total_AB ┆ Slugging_Pct ┆ DH_allowed │\n",
       "│ ---  ┆ ---    ┆ ---      ┆ ---      ┆   ┆ ---      ┆ ---      ┆ ---          ┆ ---        │\n",
       "│ str  ┆ i64    ┆ i64      ┆ i64      ┆   ┆ i64      ┆ i64      ┆ f64          ┆ str        │\n",
       "╞══════╪════════╪══════════╪══════════╪═══╪══════════╪══════════╪══════════════╪════════════╡\n",
       "│ NL   ┆ 2013   ┆ 20768    ┆ 4039     ┆ … ┆ 2157     ┆ 82690    ┆ 0.468569     ┆ No DH      │\n",
       "│ NA   ┆ 1874   ┆ 5224     ┆ 634      ┆ … ┆ 40       ┆ 19104    ┆ 0.378664     ┆ No DH      │\n",
       "│ NL   ┆ 1949   ┆ 11207    ┆ 1865     ┆ … ┆ 935      ┆ 42711    ┆ 0.463276     ┆ No DH      │\n",
       "│ AL   ┆ 1928   ┆ 11835    ┆ 2202     ┆ … ┆ 483      ┆ 42144    ┆ 0.475299     ┆ No DH      │\n",
       "│ AL   ┆ 1955   ┆ 10802    ┆ 1574     ┆ … ┆ 961      ┆ 41817    ┆ 0.449769     ┆ No DH      │\n",
       "│ …    ┆ …      ┆ …        ┆ …        ┆ … ┆ …        ┆ …        ┆ …            ┆ …          │\n",
       "│ AL   ┆ 1937   ┆ 12178    ┆ 2294     ┆ … ┆ 806      ┆ 43303    ┆ 0.498972     ┆ No DH      │\n",
       "│ AA   ┆ 1888   ┆ 9057     ┆ 1251     ┆ … ┆ 188      ┆ 37983    ┆ 0.367164     ┆ No DH      │\n",
       "│ AL   ┆ 1905   ┆ 9783     ┆ 1531     ┆ … ┆ 156      ┆ 40623    ┆ 0.366935     ┆ No DH      │\n",
       "│ AA   ┆ 1890   ┆ 9345     ┆ 1258     ┆ … ┆ 187      ┆ 37003    ┆ 0.386158     ┆ No DH      │\n",
       "│ NA   ┆ 1871   ┆ 3101     ┆ 434      ┆ … ┆ 47       ┆ 10822    ┆ 0.450379     ┆ No DH      │\n",
       "└──────┴────────┴──────────┴──────────┴───┴──────────┴──────────┴──────────────┴────────────┘"
      ]
     },
     "execution_count": 85,
     "metadata": {},
     "output_type": "execute_result"
    }
   ],
   "source": [
    "(league_wide_slugging_percentage := batting\n",
    " .group_by(\"lgID\", \"yearID\").agg(pl.col(\"H\").sum().alias(\"Total_1B\"), pl.col(\"2B\").sum().alias(\"Total_2B\"), pl.col(\"3B\").sum().alias(\"Total_3B\"),\n",
    "                                 pl.col(\"HR\").sum().alias(\"Total_HR\"), pl.col(\"AB\").sum().alias(\"Total_AB\"))\n",
    " .with_columns(Slugging_Pct = (pl.col(\"Total_1B\") + 2*pl.col(\"Total_2B\") + 3*pl.col(\"Total_3B\") + 4*pl.col(\"Total_HR\"))/pl.col(\"Total_AB\"))\n",
    " .with_columns(DH_allowed = pl.when(pl.col(\"lgID\") == \"AL\", pl.col(\"yearID\") >= 1973).then(pl.lit(\"DH\")).otherwise(\n",
    "                            pl.when(pl.col(\"lgID\") == \"NL\", pl.col(\"yearID\") >= 2022).then(pl.lit(\"DH\")).otherwise(\n",
    "                            pl.when(pl.col(\"yearID\") == 2020).then(pl.lit(\"DH\")).otherwise(pl.lit(\"No DH\")))))\n",
    ")"
   ]
  },
  {
   "cell_type": "code",
   "execution_count": 86,
   "id": "ef720629-ace5-492e-8ea6-d49ef286efc3",
   "metadata": {},
   "outputs": [],
   "source": [
    "league_wide_slugging_percentage.write_csv(\"./data/league_wide_slugging_pct.csv\")"
   ]
  }
 ],
 "metadata": {
  "kernelspec": {
   "display_name": "Python 3 (ipykernel)",
   "language": "python",
   "name": "python3"
  },
  "language_info": {
   "codemirror_mode": {
    "name": "ipython",
    "version": 3
   },
   "file_extension": ".py",
   "mimetype": "text/x-python",
   "name": "python",
   "nbconvert_exporter": "python",
   "pygments_lexer": "ipython3",
   "version": "3.13.5"
  }
 },
 "nbformat": 4,
 "nbformat_minor": 5
}
