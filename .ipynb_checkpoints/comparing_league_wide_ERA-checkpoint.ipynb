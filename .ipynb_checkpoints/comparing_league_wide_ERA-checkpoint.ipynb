{
 "cells": [
  {
   "cell_type": "code",
   "execution_count": 1,
   "id": "70017f50-bbf5-4aff-ab7c-4ab8ac1d14fe",
   "metadata": {},
   "outputs": [],
   "source": [
    "import polars as pl"
   ]
  },
  {
   "cell_type": "code",
   "execution_count": 14,
   "id": "d8940c38-11c0-4cad-8512-665343e86c31",
   "metadata": {},
   "outputs": [
    {
     "data": {
      "text/html": [
       "<div><style>\n",
       ".dataframe > thead > tr,\n",
       ".dataframe > tbody > tr {\n",
       "  text-align: right;\n",
       "  white-space: pre-wrap;\n",
       "}\n",
       "</style>\n",
       "<small>shape: (52_344, 30)</small><table border=\"1\" class=\"dataframe\"><thead><tr><th>playerID</th><th>yearID</th><th>stint</th><th>teamID</th><th>lgID</th><th>W</th><th>L</th><th>G</th><th>GS</th><th>CG</th><th>SHO</th><th>SV</th><th>IPouts</th><th>H</th><th>ER</th><th>HR</th><th>BB</th><th>SO</th><th>BAOpp</th><th>ERA</th><th>IBB</th><th>WP</th><th>HBP</th><th>BK</th><th>BFP</th><th>GF</th><th>R</th><th>SH</th><th>SF</th><th>GIDP</th></tr><tr><td>str</td><td>i64</td><td>i64</td><td>str</td><td>str</td><td>i64</td><td>i64</td><td>i64</td><td>i64</td><td>i64</td><td>i64</td><td>i64</td><td>i64</td><td>i64</td><td>i64</td><td>i64</td><td>i64</td><td>i64</td><td>f64</td><td>f64</td><td>i64</td><td>i64</td><td>i64</td><td>i64</td><td>i64</td><td>i64</td><td>i64</td><td>i64</td><td>i64</td><td>i64</td></tr></thead><tbody><tr><td>&quot;aardsda01&quot;</td><td>2004</td><td>1</td><td>&quot;SFN&quot;</td><td>&quot;NL&quot;</td><td>1</td><td>0</td><td>11</td><td>0</td><td>0</td><td>0</td><td>0</td><td>32</td><td>20</td><td>8</td><td>1</td><td>10</td><td>5</td><td>0.417</td><td>6.75</td><td>0</td><td>0</td><td>2</td><td>0</td><td>61</td><td>5</td><td>8</td><td>0</td><td>1</td><td>1</td></tr><tr><td>&quot;aardsda01&quot;</td><td>2006</td><td>1</td><td>&quot;CHN&quot;</td><td>&quot;NL&quot;</td><td>3</td><td>0</td><td>45</td><td>0</td><td>0</td><td>0</td><td>0</td><td>159</td><td>41</td><td>24</td><td>9</td><td>28</td><td>49</td><td>0.214</td><td>4.08</td><td>0</td><td>1</td><td>1</td><td>0</td><td>225</td><td>9</td><td>25</td><td>1</td><td>3</td><td>2</td></tr><tr><td>&quot;aardsda01&quot;</td><td>2007</td><td>1</td><td>&quot;CHA&quot;</td><td>&quot;AL&quot;</td><td>2</td><td>1</td><td>25</td><td>0</td><td>0</td><td>0</td><td>0</td><td>97</td><td>39</td><td>23</td><td>4</td><td>17</td><td>36</td><td>0.3</td><td>6.4</td><td>3</td><td>2</td><td>1</td><td>0</td><td>151</td><td>7</td><td>24</td><td>2</td><td>1</td><td>1</td></tr><tr><td>&quot;aardsda01&quot;</td><td>2008</td><td>1</td><td>&quot;BOS&quot;</td><td>&quot;AL&quot;</td><td>4</td><td>2</td><td>47</td><td>0</td><td>0</td><td>0</td><td>0</td><td>146</td><td>49</td><td>30</td><td>4</td><td>35</td><td>49</td><td>0.268</td><td>5.55</td><td>2</td><td>3</td><td>5</td><td>0</td><td>228</td><td>7</td><td>32</td><td>3</td><td>2</td><td>4</td></tr><tr><td>&quot;aardsda01&quot;</td><td>2009</td><td>1</td><td>&quot;SEA&quot;</td><td>&quot;AL&quot;</td><td>3</td><td>6</td><td>73</td><td>0</td><td>0</td><td>0</td><td>38</td><td>214</td><td>49</td><td>20</td><td>4</td><td>34</td><td>80</td><td>0.19</td><td>2.52</td><td>3</td><td>2</td><td>0</td><td>0</td><td>296</td><td>53</td><td>23</td><td>2</td><td>1</td><td>2</td></tr><tr><td>&hellip;</td><td>&hellip;</td><td>&hellip;</td><td>&hellip;</td><td>&hellip;</td><td>&hellip;</td><td>&hellip;</td><td>&hellip;</td><td>&hellip;</td><td>&hellip;</td><td>&hellip;</td><td>&hellip;</td><td>&hellip;</td><td>&hellip;</td><td>&hellip;</td><td>&hellip;</td><td>&hellip;</td><td>&hellip;</td><td>&hellip;</td><td>&hellip;</td><td>&hellip;</td><td>&hellip;</td><td>&hellip;</td><td>&hellip;</td><td>&hellip;</td><td>&hellip;</td><td>&hellip;</td><td>&hellip;</td><td>&hellip;</td><td>&hellip;</td></tr><tr><td>&quot;zuverge01&quot;</td><td>1958</td><td>1</td><td>&quot;BAL&quot;</td><td>&quot;AL&quot;</td><td>2</td><td>2</td><td>45</td><td>0</td><td>0</td><td>0</td><td>7</td><td>207</td><td>74</td><td>26</td><td>4</td><td>17</td><td>22</td><td>0.28</td><td>3.39</td><td>3</td><td>2</td><td>6</td><td>0</td><td>294</td><td>23</td><td>29</td><td>null</td><td>null</td><td>null</td></tr><tr><td>&quot;zuverge01&quot;</td><td>1959</td><td>1</td><td>&quot;BAL&quot;</td><td>&quot;AL&quot;</td><td>0</td><td>1</td><td>6</td><td>0</td><td>0</td><td>0</td><td>0</td><td>39</td><td>15</td><td>6</td><td>1</td><td>6</td><td>1</td><td>0.3</td><td>4.15</td><td>0</td><td>1</td><td>0</td><td>0</td><td>55</td><td>1</td><td>7</td><td>null</td><td>null</td><td>null</td></tr><tr><td>&quot;zychto01&quot;</td><td>2015</td><td>1</td><td>&quot;SEA&quot;</td><td>&quot;AL&quot;</td><td>0</td><td>0</td><td>13</td><td>1</td><td>0</td><td>0</td><td>0</td><td>55</td><td>17</td><td>5</td><td>1</td><td>3</td><td>24</td><td>0.239</td><td>2.45</td><td>0</td><td>1</td><td>2</td><td>0</td><td>76</td><td>4</td><td>6</td><td>0</td><td>0</td><td>0</td></tr><tr><td>&quot;zychto01&quot;</td><td>2016</td><td>1</td><td>&quot;SEA&quot;</td><td>&quot;AL&quot;</td><td>1</td><td>0</td><td>12</td><td>0</td><td>0</td><td>0</td><td>0</td><td>41</td><td>10</td><td>5</td><td>0</td><td>10</td><td>21</td><td>0.208</td><td>3.29</td><td>2</td><td>0</td><td>1</td><td>0</td><td>60</td><td>3</td><td>6</td><td>0</td><td>1</td><td>1</td></tr><tr><td>&quot;zychto01&quot;</td><td>2017</td><td>1</td><td>&quot;SEA&quot;</td><td>&quot;AL&quot;</td><td>6</td><td>3</td><td>45</td><td>0</td><td>0</td><td>0</td><td>1</td><td>122</td><td>30</td><td>12</td><td>2</td><td>21</td><td>35</td><td>0.208</td><td>2.66</td><td>3</td><td>1</td><td>5</td><td>1</td><td>173</td><td>7</td><td>12</td><td>1</td><td>2</td><td>5</td></tr></tbody></table></div>"
      ],
      "text/plain": [
       "shape: (52_344, 30)\n",
       "┌───────────┬────────┬───────┬────────┬───┬─────┬──────┬──────┬──────┐\n",
       "│ playerID  ┆ yearID ┆ stint ┆ teamID ┆ … ┆ R   ┆ SH   ┆ SF   ┆ GIDP │\n",
       "│ ---       ┆ ---    ┆ ---   ┆ ---    ┆   ┆ --- ┆ ---  ┆ ---  ┆ ---  │\n",
       "│ str       ┆ i64    ┆ i64   ┆ str    ┆   ┆ i64 ┆ i64  ┆ i64  ┆ i64  │\n",
       "╞═══════════╪════════╪═══════╪════════╪═══╪═════╪══════╪══════╪══════╡\n",
       "│ aardsda01 ┆ 2004   ┆ 1     ┆ SFN    ┆ … ┆ 8   ┆ 0    ┆ 1    ┆ 1    │\n",
       "│ aardsda01 ┆ 2006   ┆ 1     ┆ CHN    ┆ … ┆ 25  ┆ 1    ┆ 3    ┆ 2    │\n",
       "│ aardsda01 ┆ 2007   ┆ 1     ┆ CHA    ┆ … ┆ 24  ┆ 2    ┆ 1    ┆ 1    │\n",
       "│ aardsda01 ┆ 2008   ┆ 1     ┆ BOS    ┆ … ┆ 32  ┆ 3    ┆ 2    ┆ 4    │\n",
       "│ aardsda01 ┆ 2009   ┆ 1     ┆ SEA    ┆ … ┆ 23  ┆ 2    ┆ 1    ┆ 2    │\n",
       "│ …         ┆ …      ┆ …     ┆ …      ┆ … ┆ …   ┆ …    ┆ …    ┆ …    │\n",
       "│ zuverge01 ┆ 1958   ┆ 1     ┆ BAL    ┆ … ┆ 29  ┆ null ┆ null ┆ null │\n",
       "│ zuverge01 ┆ 1959   ┆ 1     ┆ BAL    ┆ … ┆ 7   ┆ null ┆ null ┆ null │\n",
       "│ zychto01  ┆ 2015   ┆ 1     ┆ SEA    ┆ … ┆ 6   ┆ 0    ┆ 0    ┆ 0    │\n",
       "│ zychto01  ┆ 2016   ┆ 1     ┆ SEA    ┆ … ┆ 6   ┆ 0    ┆ 1    ┆ 1    │\n",
       "│ zychto01  ┆ 2017   ┆ 1     ┆ SEA    ┆ … ┆ 12  ┆ 1    ┆ 2    ┆ 5    │\n",
       "└───────────┴────────┴───────┴────────┴───┴─────┴──────┴──────┴──────┘"
      ]
     },
     "execution_count": 14,
     "metadata": {},
     "output_type": "execute_result"
    }
   ],
   "source": [
    "(pitching := pl.read_csv(\"./data/lahman_1871-2024_csv/Pitching.csv\")\n",
    ")"
   ]
  },
  {
   "cell_type": "code",
   "execution_count": 87,
   "id": "31167b35-0a38-405b-818a-507632f1df4f",
   "metadata": {},
   "outputs": [
    {
     "data": {
      "text/html": [
       "<div><style>\n",
       ".dataframe > thead > tr,\n",
       ".dataframe > tbody > tr {\n",
       "  text-align: right;\n",
       "  white-space: pre-wrap;\n",
       "}\n",
       "</style>\n",
       "<small>shape: (5, 6)</small><table border=\"1\" class=\"dataframe\"><thead><tr><th>lgID</th><th>yearID</th><th>total_runs_allowed</th><th>total_outs</th><th>ERA</th><th>DH_allowed</th></tr><tr><td>str</td><td>i64</td><td>i64</td><td>i64</td><td>f64</td><td>str</td></tr></thead><tbody><tr><td>&quot;NL&quot;</td><td>1920</td><td>4895</td><td>33676</td><td>3.924605</td><td>&quot;No DH&quot;</td></tr><tr><td>&quot;AL&quot;</td><td>1964</td><td>6607</td><td>43845</td><td>4.068628</td><td>&quot;No DH&quot;</td></tr><tr><td>&quot;NL&quot;</td><td>2007</td><td>12388</td><td>69742</td><td>4.795905</td><td>&quot;No DH&quot;</td></tr><tr><td>&quot;AL&quot;</td><td>1992</td><td>9802</td><td>60987</td><td>4.339515</td><td>&quot;DH&quot;</td></tr><tr><td>&quot;NL&quot;</td><td>1927</td><td>5657</td><td>33023</td><td>4.625231</td><td>&quot;No DH&quot;</td></tr></tbody></table></div>"
      ],
      "text/plain": [
       "shape: (5, 6)\n",
       "┌──────┬────────┬────────────────────┬────────────┬──────────┬────────────┐\n",
       "│ lgID ┆ yearID ┆ total_runs_allowed ┆ total_outs ┆ ERA      ┆ DH_allowed │\n",
       "│ ---  ┆ ---    ┆ ---                ┆ ---        ┆ ---      ┆ ---        │\n",
       "│ str  ┆ i64    ┆ i64                ┆ i64        ┆ f64      ┆ str        │\n",
       "╞══════╪════════╪════════════════════╪════════════╪══════════╪════════════╡\n",
       "│ NL   ┆ 1920   ┆ 4895               ┆ 33676      ┆ 3.924605 ┆ No DH      │\n",
       "│ AL   ┆ 1964   ┆ 6607               ┆ 43845      ┆ 4.068628 ┆ No DH      │\n",
       "│ NL   ┆ 2007   ┆ 12388              ┆ 69742      ┆ 4.795905 ┆ No DH      │\n",
       "│ AL   ┆ 1992   ┆ 9802               ┆ 60987      ┆ 4.339515 ┆ DH         │\n",
       "│ NL   ┆ 1927   ┆ 5657               ┆ 33023      ┆ 4.625231 ┆ No DH      │\n",
       "└──────┴────────┴────────────────────┴────────────┴──────────┴────────────┘"
      ]
     },
     "execution_count": 87,
     "metadata": {},
     "output_type": "execute_result"
    }
   ],
   "source": [
    "(league_wide_ERA := pitching\n",
    " .group_by(\"lgID\", \"yearID\").agg(pl.col(\"R\").sum().alias(\"total_runs_allowed\"), pl.col(\"IPouts\").sum().alias(\"total_outs\"))\n",
    " .with_columns(ERA = pl.col(\"total_runs_allowed\")/pl.col(\"total_outs\")*27)\n",
    " .with_columns(DH_allowed = pl.when(pl.col(\"lgID\") == \"AL\", pl.col(\"yearID\") >= 1973).then(pl.lit(\"DH\")).otherwise(\n",
    "                            pl.when(pl.col(\"lgID\") == \"NL\", pl.col(\"yearID\") >= 2022).then(pl.lit(\"DH\")).otherwise(\n",
    "                            pl.when(pl.col(\"yearID\") == 2020).then(pl.lit(\"DH\")).otherwise(pl.lit(\"No DH\")))))\n",
    ").head()"
   ]
  },
  {
   "cell_type": "code",
   "execution_count": 83,
   "id": "ba69977d-bb2d-47b0-8151-c76e9cba4b7b",
   "metadata": {},
   "outputs": [],
   "source": [
    "league_wide_ERA.write_csv(\"./data/league_wide_ERA.csv\")"
   ]
  },
  {
   "cell_type": "code",
   "execution_count": 84,
   "id": "a7569c7a-bd97-4430-83b0-f71ff27df492",
   "metadata": {},
   "outputs": [
    {
     "data": {
      "text/html": [
       "<div><style>\n",
       ".dataframe > thead > tr,\n",
       ".dataframe > tbody > tr {\n",
       "  text-align: right;\n",
       "  white-space: pre-wrap;\n",
       "}\n",
       "</style>\n",
       "<small>shape: (115_450, 24)</small><table border=\"1\" class=\"dataframe\"><thead><tr><th>playerID</th><th>yearID</th><th>stint</th><th>teamID</th><th>lgID</th><th>G</th><th>G_batting</th><th>AB</th><th>R</th><th>H</th><th>2B</th><th>3B</th><th>HR</th><th>RBI</th><th>SB</th><th>CS</th><th>BB</th><th>SO</th><th>IBB</th><th>HBP</th><th>SH</th><th>SF</th><th>GIDP</th><th>G_old</th></tr><tr><td>str</td><td>i64</td><td>i64</td><td>str</td><td>str</td><td>i64</td><td>i64</td><td>i64</td><td>i64</td><td>i64</td><td>i64</td><td>i64</td><td>i64</td><td>i64</td><td>i64</td><td>i64</td><td>i64</td><td>i64</td><td>i64</td><td>i64</td><td>i64</td><td>i64</td><td>i64</td><td>i64</td></tr></thead><tbody><tr><td>&quot;aardsda01&quot;</td><td>2004</td><td>1</td><td>&quot;SFN&quot;</td><td>&quot;NL&quot;</td><td>11</td><td>null</td><td>0</td><td>0</td><td>0</td><td>0</td><td>0</td><td>0</td><td>0</td><td>0</td><td>0</td><td>0</td><td>0</td><td>0</td><td>0</td><td>0</td><td>0</td><td>0</td><td>null</td></tr><tr><td>&quot;aardsda01&quot;</td><td>2006</td><td>1</td><td>&quot;CHN&quot;</td><td>&quot;NL&quot;</td><td>45</td><td>null</td><td>2</td><td>0</td><td>0</td><td>0</td><td>0</td><td>0</td><td>0</td><td>0</td><td>0</td><td>0</td><td>0</td><td>0</td><td>0</td><td>1</td><td>0</td><td>0</td><td>null</td></tr><tr><td>&quot;aardsda01&quot;</td><td>2007</td><td>1</td><td>&quot;CHA&quot;</td><td>&quot;AL&quot;</td><td>25</td><td>null</td><td>0</td><td>0</td><td>0</td><td>0</td><td>0</td><td>0</td><td>0</td><td>0</td><td>0</td><td>0</td><td>0</td><td>0</td><td>0</td><td>0</td><td>0</td><td>0</td><td>null</td></tr><tr><td>&quot;aardsda01&quot;</td><td>2008</td><td>1</td><td>&quot;BOS&quot;</td><td>&quot;AL&quot;</td><td>47</td><td>null</td><td>1</td><td>0</td><td>0</td><td>0</td><td>0</td><td>0</td><td>0</td><td>0</td><td>0</td><td>0</td><td>1</td><td>0</td><td>0</td><td>0</td><td>0</td><td>0</td><td>null</td></tr><tr><td>&quot;aardsda01&quot;</td><td>2009</td><td>1</td><td>&quot;SEA&quot;</td><td>&quot;AL&quot;</td><td>73</td><td>null</td><td>0</td><td>0</td><td>0</td><td>0</td><td>0</td><td>0</td><td>0</td><td>0</td><td>0</td><td>0</td><td>0</td><td>0</td><td>0</td><td>0</td><td>0</td><td>0</td><td>null</td></tr><tr><td>&hellip;</td><td>&hellip;</td><td>&hellip;</td><td>&hellip;</td><td>&hellip;</td><td>&hellip;</td><td>&hellip;</td><td>&hellip;</td><td>&hellip;</td><td>&hellip;</td><td>&hellip;</td><td>&hellip;</td><td>&hellip;</td><td>&hellip;</td><td>&hellip;</td><td>&hellip;</td><td>&hellip;</td><td>&hellip;</td><td>&hellip;</td><td>&hellip;</td><td>&hellip;</td><td>&hellip;</td><td>&hellip;</td><td>&hellip;</td></tr><tr><td>&quot;zwilldu01&quot;</td><td>1915</td><td>1</td><td>&quot;CHF&quot;</td><td>&quot;FL&quot;</td><td>150</td><td>null</td><td>548</td><td>65</td><td>157</td><td>32</td><td>7</td><td>13</td><td>94</td><td>24</td><td>null</td><td>67</td><td>65</td><td>null</td><td>2</td><td>18</td><td>null</td><td>null</td><td>null</td></tr><tr><td>&quot;zwilldu01&quot;</td><td>1916</td><td>1</td><td>&quot;CHN&quot;</td><td>&quot;NL&quot;</td><td>35</td><td>null</td><td>53</td><td>4</td><td>6</td><td>1</td><td>0</td><td>1</td><td>8</td><td>0</td><td>null</td><td>4</td><td>6</td><td>null</td><td>0</td><td>2</td><td>null</td><td>null</td><td>null</td></tr><tr><td>&quot;zychto01&quot;</td><td>2015</td><td>1</td><td>&quot;SEA&quot;</td><td>&quot;AL&quot;</td><td>13</td><td>null</td><td>0</td><td>0</td><td>0</td><td>0</td><td>0</td><td>0</td><td>0</td><td>0</td><td>0</td><td>0</td><td>0</td><td>0</td><td>0</td><td>0</td><td>0</td><td>0</td><td>null</td></tr><tr><td>&quot;zychto01&quot;</td><td>2016</td><td>1</td><td>&quot;SEA&quot;</td><td>&quot;AL&quot;</td><td>12</td><td>null</td><td>0</td><td>0</td><td>0</td><td>0</td><td>0</td><td>0</td><td>0</td><td>0</td><td>0</td><td>0</td><td>0</td><td>0</td><td>0</td><td>0</td><td>0</td><td>0</td><td>null</td></tr><tr><td>&quot;zychto01&quot;</td><td>2017</td><td>1</td><td>&quot;SEA&quot;</td><td>&quot;AL&quot;</td><td>45</td><td>null</td><td>0</td><td>0</td><td>0</td><td>0</td><td>0</td><td>0</td><td>0</td><td>0</td><td>0</td><td>0</td><td>0</td><td>0</td><td>0</td><td>0</td><td>0</td><td>0</td><td>null</td></tr></tbody></table></div>"
      ],
      "text/plain": [
       "shape: (115_450, 24)\n",
       "┌───────────┬────────┬───────┬────────┬───┬─────┬──────┬──────┬───────┐\n",
       "│ playerID  ┆ yearID ┆ stint ┆ teamID ┆ … ┆ SH  ┆ SF   ┆ GIDP ┆ G_old │\n",
       "│ ---       ┆ ---    ┆ ---   ┆ ---    ┆   ┆ --- ┆ ---  ┆ ---  ┆ ---   │\n",
       "│ str       ┆ i64    ┆ i64   ┆ str    ┆   ┆ i64 ┆ i64  ┆ i64  ┆ i64   │\n",
       "╞═══════════╪════════╪═══════╪════════╪═══╪═════╪══════╪══════╪═══════╡\n",
       "│ aardsda01 ┆ 2004   ┆ 1     ┆ SFN    ┆ … ┆ 0   ┆ 0    ┆ 0    ┆ null  │\n",
       "│ aardsda01 ┆ 2006   ┆ 1     ┆ CHN    ┆ … ┆ 1   ┆ 0    ┆ 0    ┆ null  │\n",
       "│ aardsda01 ┆ 2007   ┆ 1     ┆ CHA    ┆ … ┆ 0   ┆ 0    ┆ 0    ┆ null  │\n",
       "│ aardsda01 ┆ 2008   ┆ 1     ┆ BOS    ┆ … ┆ 0   ┆ 0    ┆ 0    ┆ null  │\n",
       "│ aardsda01 ┆ 2009   ┆ 1     ┆ SEA    ┆ … ┆ 0   ┆ 0    ┆ 0    ┆ null  │\n",
       "│ …         ┆ …      ┆ …     ┆ …      ┆ … ┆ …   ┆ …    ┆ …    ┆ …     │\n",
       "│ zwilldu01 ┆ 1915   ┆ 1     ┆ CHF    ┆ … ┆ 18  ┆ null ┆ null ┆ null  │\n",
       "│ zwilldu01 ┆ 1916   ┆ 1     ┆ CHN    ┆ … ┆ 2   ┆ null ┆ null ┆ null  │\n",
       "│ zychto01  ┆ 2015   ┆ 1     ┆ SEA    ┆ … ┆ 0   ┆ 0    ┆ 0    ┆ null  │\n",
       "│ zychto01  ┆ 2016   ┆ 1     ┆ SEA    ┆ … ┆ 0   ┆ 0    ┆ 0    ┆ null  │\n",
       "│ zychto01  ┆ 2017   ┆ 1     ┆ SEA    ┆ … ┆ 0   ┆ 0    ┆ 0    ┆ null  │\n",
       "└───────────┴────────┴───────┴────────┴───┴─────┴──────┴──────┴───────┘"
      ]
     },
     "execution_count": 84,
     "metadata": {},
     "output_type": "execute_result"
    }
   ],
   "source": [
    "(batting := pl.read_csv(\"./data/lahman_1871-2024_csv/Batting.csv\")\n",
    ")"
   ]
  },
  {
   "cell_type": "code",
   "execution_count": 88,
   "id": "7bf8daeb-34dc-4ced-83bb-0fe5637eed95",
   "metadata": {},
   "outputs": [
    {
     "data": {
      "text/html": [
       "<div><style>\n",
       ".dataframe > thead > tr,\n",
       ".dataframe > tbody > tr {\n",
       "  text-align: right;\n",
       "  white-space: pre-wrap;\n",
       "}\n",
       "</style>\n",
       "<small>shape: (5, 9)</small><table border=\"1\" class=\"dataframe\"><thead><tr><th>lgID</th><th>yearID</th><th>Total_1B</th><th>Total_2B</th><th>Total_3B</th><th>Total_HR</th><th>Total_AB</th><th>Slugging_Pct</th><th>DH_allowed</th></tr><tr><td>str</td><td>i64</td><td>i64</td><td>i64</td><td>i64</td><td>i64</td><td>i64</td><td>f64</td><td>str</td></tr></thead><tbody><tr><td>&quot;NL&quot;</td><td>1954</td><td>11142</td><td>1816</td><td>403</td><td>1114</td><td>42027</td><td>0.48633</td><td>&quot;No DH&quot;</td></tr><tr><td>&quot;NL&quot;</td><td>1885</td><td>7516</td><td>1167</td><td>412</td><td>174</td><td>31123</td><td>0.378562</td><td>&quot;No DH&quot;</td></tr><tr><td>&quot;NL&quot;</td><td>1946</td><td>10762</td><td>1752</td><td>382</td><td>562</td><td>42094</td><td>0.419537</td><td>&quot;No DH&quot;</td></tr><tr><td>&quot;NL&quot;</td><td>1982</td><td>17085</td><td>2823</td><td>445</td><td>1299</td><td>66263</td><td>0.441604</td><td>&quot;No DH&quot;</td></tr><tr><td>&quot;AL&quot;</td><td>2012</td><td>19780</td><td>3808</td><td>369</td><td>2500</td><td>77437</td><td>0.497217</td><td>&quot;DH&quot;</td></tr></tbody></table></div>"
      ],
      "text/plain": [
       "shape: (5, 9)\n",
       "┌──────┬────────┬──────────┬──────────┬───┬──────────┬──────────┬──────────────┬────────────┐\n",
       "│ lgID ┆ yearID ┆ Total_1B ┆ Total_2B ┆ … ┆ Total_HR ┆ Total_AB ┆ Slugging_Pct ┆ DH_allowed │\n",
       "│ ---  ┆ ---    ┆ ---      ┆ ---      ┆   ┆ ---      ┆ ---      ┆ ---          ┆ ---        │\n",
       "│ str  ┆ i64    ┆ i64      ┆ i64      ┆   ┆ i64      ┆ i64      ┆ f64          ┆ str        │\n",
       "╞══════╪════════╪══════════╪══════════╪═══╪══════════╪══════════╪══════════════╪════════════╡\n",
       "│ NL   ┆ 1954   ┆ 11142    ┆ 1816     ┆ … ┆ 1114     ┆ 42027    ┆ 0.48633      ┆ No DH      │\n",
       "│ NL   ┆ 1885   ┆ 7516     ┆ 1167     ┆ … ┆ 174      ┆ 31123    ┆ 0.378562     ┆ No DH      │\n",
       "│ NL   ┆ 1946   ┆ 10762    ┆ 1752     ┆ … ┆ 562      ┆ 42094    ┆ 0.419537     ┆ No DH      │\n",
       "│ NL   ┆ 1982   ┆ 17085    ┆ 2823     ┆ … ┆ 1299     ┆ 66263    ┆ 0.441604     ┆ No DH      │\n",
       "│ AL   ┆ 2012   ┆ 19780    ┆ 3808     ┆ … ┆ 2500     ┆ 77437    ┆ 0.497217     ┆ DH         │\n",
       "└──────┴────────┴──────────┴──────────┴───┴──────────┴──────────┴──────────────┴────────────┘"
      ]
     },
     "execution_count": 88,
     "metadata": {},
     "output_type": "execute_result"
    }
   ],
   "source": [
    "(league_wide_slugging_percentage := batting\n",
    " .group_by(\"lgID\", \"yearID\").agg(pl.col(\"H\").sum().alias(\"Total_1B\"), pl.col(\"2B\").sum().alias(\"Total_2B\"), pl.col(\"3B\").sum().alias(\"Total_3B\"),\n",
    "                                 pl.col(\"HR\").sum().alias(\"Total_HR\"), pl.col(\"AB\").sum().alias(\"Total_AB\"))\n",
    " .with_columns(Slugging_Pct = (pl.col(\"Total_1B\") + 2*pl.col(\"Total_2B\") + 3*pl.col(\"Total_3B\") + 4*pl.col(\"Total_HR\"))/pl.col(\"Total_AB\"))\n",
    " .with_columns(DH_allowed = pl.when(pl.col(\"lgID\") == \"AL\", pl.col(\"yearID\") >= 1973).then(pl.lit(\"DH\")).otherwise(\n",
    "                            pl.when(pl.col(\"lgID\") == \"NL\", pl.col(\"yearID\") >= 2022).then(pl.lit(\"DH\")).otherwise(\n",
    "                            pl.when(pl.col(\"yearID\") == 2020).then(pl.lit(\"DH\")).otherwise(pl.lit(\"No DH\")))))\n",
    ").head()"
   ]
  },
  {
   "cell_type": "code",
   "execution_count": 86,
   "id": "ef720629-ace5-492e-8ea6-d49ef286efc3",
   "metadata": {},
   "outputs": [],
   "source": [
    "league_wide_slugging_percentage.write_csv(\"./data/league_wide_slugging_pct.csv\")"
   ]
  }
 ],
 "metadata": {
  "kernelspec": {
   "display_name": "Python 3 (ipykernel)",
   "language": "python",
   "name": "python3"
  },
  "language_info": {
   "codemirror_mode": {
    "name": "ipython",
    "version": 3
   },
   "file_extension": ".py",
   "mimetype": "text/x-python",
   "name": "python",
   "nbconvert_exporter": "python",
   "pygments_lexer": "ipython3",
   "version": "3.13.5"
  }
 },
 "nbformat": 4,
 "nbformat_minor": 5
}
